{
 "cells": [
  {
   "cell_type": "code",
   "execution_count": 76,
   "id": "2ed696f6",
   "metadata": {},
   "outputs": [],
   "source": [
    "import pandas as pd \n",
    "import datetime\n",
    "import warnings\n",
    "import numpy as np\n",
    "warnings.filterwarnings(\"ignore\")"
   ]
  },
  {
   "cell_type": "code",
   "execution_count": 77,
   "id": "24345ac8",
   "metadata": {
    "scrolled": false
   },
   "outputs": [
    {
     "data": {
      "text/html": [
       "<div>\n",
       "<style scoped>\n",
       "    .dataframe tbody tr th:only-of-type {\n",
       "        vertical-align: middle;\n",
       "    }\n",
       "\n",
       "    .dataframe tbody tr th {\n",
       "        vertical-align: top;\n",
       "    }\n",
       "\n",
       "    .dataframe thead th {\n",
       "        text-align: right;\n",
       "    }\n",
       "</style>\n",
       "<table border=\"1\" class=\"dataframe\">\n",
       "  <thead>\n",
       "    <tr style=\"text-align: right;\">\n",
       "      <th></th>\n",
       "      <th>प्रचलित भावों पर सकल देशीय उत्पाद का त्रैमासिक अनुमान, 2011-12 श्रंखला</th>\n",
       "      <th>Unnamed: 1</th>\n",
       "      <th>Unnamed: 2</th>\n",
       "      <th>Unnamed: 3</th>\n",
       "      <th>Unnamed: 4</th>\n",
       "      <th>Unnamed: 5</th>\n",
       "      <th>Unnamed: 6</th>\n",
       "      <th>Unnamed: 7</th>\n",
       "      <th>Unnamed: 8</th>\n",
       "      <th>Unnamed: 9</th>\n",
       "      <th>...</th>\n",
       "      <th>Unnamed: 91</th>\n",
       "      <th>Unnamed: 92</th>\n",
       "      <th>Unnamed: 93</th>\n",
       "      <th>Unnamed: 94</th>\n",
       "      <th>Unnamed: 95</th>\n",
       "      <th>Unnamed: 96</th>\n",
       "      <th>Unnamed: 97</th>\n",
       "      <th>Unnamed: 98</th>\n",
       "      <th>Unnamed: 99</th>\n",
       "      <th>Unnamed: 100</th>\n",
       "    </tr>\n",
       "  </thead>\n",
       "  <tbody>\n",
       "    <tr>\n",
       "      <th>0</th>\n",
       "      <td>QUARTERLY ESTIMATES OF GDP AT CURRENT PRICES, ...</td>\n",
       "      <td>NaN</td>\n",
       "      <td>NaN</td>\n",
       "      <td>NaN</td>\n",
       "      <td>NaN</td>\n",
       "      <td>NaN</td>\n",
       "      <td>NaN</td>\n",
       "      <td>NaN</td>\n",
       "      <td>NaN</td>\n",
       "      <td>NaN</td>\n",
       "      <td>...</td>\n",
       "      <td>NaN</td>\n",
       "      <td>NaN</td>\n",
       "      <td>NaN</td>\n",
       "      <td>NaN</td>\n",
       "      <td>NaN</td>\n",
       "      <td>NaN</td>\n",
       "      <td>NaN</td>\n",
       "      <td>NaN</td>\n",
       "      <td>NaN</td>\n",
       "      <td>NaN</td>\n",
       "    </tr>\n",
       "    <tr>\n",
       "      <th>1</th>\n",
       "      <td>NaN</td>\n",
       "      <td>NaN</td>\n",
       "      <td>NaN</td>\n",
       "      <td>NaN</td>\n",
       "      <td>NaN</td>\n",
       "      <td>NaN</td>\n",
       "      <td>NaN</td>\n",
       "      <td>NaN</td>\n",
       "      <td>NaN</td>\n",
       "      <td>NaN</td>\n",
       "      <td>...</td>\n",
       "      <td>NaN</td>\n",
       "      <td>NaN</td>\n",
       "      <td>NaN</td>\n",
       "      <td>NaN</td>\n",
       "      <td>NaN</td>\n",
       "      <td>NaN</td>\n",
       "      <td>NaN</td>\n",
       "      <td>NaN</td>\n",
       "      <td>NaN</td>\n",
       "      <td>NaN</td>\n",
       "    </tr>\n",
       "    <tr>\n",
       "      <th>2</th>\n",
       "      <td>NaN</td>\n",
       "      <td>NaN</td>\n",
       "      <td>NaN</td>\n",
       "      <td>NaN</td>\n",
       "      <td>NaN</td>\n",
       "      <td>NaN</td>\n",
       "      <td>NaN</td>\n",
       "      <td>NaN</td>\n",
       "      <td>NaN</td>\n",
       "      <td>NaN</td>\n",
       "      <td>...</td>\n",
       "      <td>NaN</td>\n",
       "      <td>NaN</td>\n",
       "      <td>NaN</td>\n",
       "      <td>NaN</td>\n",
       "      <td>NaN</td>\n",
       "      <td>NaN</td>\n",
       "      <td>NaN</td>\n",
       "      <td>NaN</td>\n",
       "      <td>NaN</td>\n",
       "      <td>NaN</td>\n",
       "    </tr>\n",
       "    <tr>\n",
       "      <th>3</th>\n",
       "      <td>NaN</td>\n",
       "      <td>(` करोड़ में)                    (Rupees in crore)</td>\n",
       "      <td>NaN</td>\n",
       "      <td>NaN</td>\n",
       "      <td>NaN</td>\n",
       "      <td>NaN</td>\n",
       "      <td>NaN</td>\n",
       "      <td>NaN</td>\n",
       "      <td>NaN</td>\n",
       "      <td>NaN</td>\n",
       "      <td>...</td>\n",
       "      <td>NaN</td>\n",
       "      <td>NaN</td>\n",
       "      <td>NaN</td>\n",
       "      <td>NaN</td>\n",
       "      <td>NaN</td>\n",
       "      <td>NaN</td>\n",
       "      <td>NaN</td>\n",
       "      <td>NaN</td>\n",
       "      <td>NaN</td>\n",
       "      <td>NaN</td>\n",
       "    </tr>\n",
       "    <tr>\n",
       "      <th>4</th>\n",
       "      <td>मद</td>\n",
       "      <td>2011-12</td>\n",
       "      <td>NaN</td>\n",
       "      <td>NaN</td>\n",
       "      <td>NaN</td>\n",
       "      <td>2012-13</td>\n",
       "      <td>NaN</td>\n",
       "      <td>NaN</td>\n",
       "      <td>NaN</td>\n",
       "      <td>2013-14</td>\n",
       "      <td>...</td>\n",
       "      <td>NaN</td>\n",
       "      <td>NaN</td>\n",
       "      <td>NaN</td>\n",
       "      <td>NaN</td>\n",
       "      <td>NaN</td>\n",
       "      <td>NaN</td>\n",
       "      <td>NaN</td>\n",
       "      <td>NaN</td>\n",
       "      <td>NaN</td>\n",
       "      <td>NaN</td>\n",
       "    </tr>\n",
       "    <tr>\n",
       "      <th>5</th>\n",
       "      <td>NaN</td>\n",
       "      <td>Q1</td>\n",
       "      <td>Q2</td>\n",
       "      <td>Q3</td>\n",
       "      <td>Q4</td>\n",
       "      <td>Q1</td>\n",
       "      <td>Q2</td>\n",
       "      <td>Q3</td>\n",
       "      <td>Q4</td>\n",
       "      <td>Q1</td>\n",
       "      <td>...</td>\n",
       "      <td>NaN</td>\n",
       "      <td>NaN</td>\n",
       "      <td>NaN</td>\n",
       "      <td>NaN</td>\n",
       "      <td>NaN</td>\n",
       "      <td>NaN</td>\n",
       "      <td>NaN</td>\n",
       "      <td>NaN</td>\n",
       "      <td>NaN</td>\n",
       "      <td>NaN</td>\n",
       "    </tr>\n",
       "    <tr>\n",
       "      <th>6</th>\n",
       "      <td>बुनियादी मूल्यों पर सकल मूल्य वर्धन</td>\n",
       "      <td>NaN</td>\n",
       "      <td>NaN</td>\n",
       "      <td>NaN</td>\n",
       "      <td>NaN</td>\n",
       "      <td>NaN</td>\n",
       "      <td>NaN</td>\n",
       "      <td>NaN</td>\n",
       "      <td>NaN</td>\n",
       "      <td>NaN</td>\n",
       "      <td>...</td>\n",
       "      <td>NaN</td>\n",
       "      <td>NaN</td>\n",
       "      <td>NaN</td>\n",
       "      <td>NaN</td>\n",
       "      <td>NaN</td>\n",
       "      <td>NaN</td>\n",
       "      <td>NaN</td>\n",
       "      <td>NaN</td>\n",
       "      <td>NaN</td>\n",
       "      <td>NaN</td>\n",
       "    </tr>\n",
       "    <tr>\n",
       "      <th>7</th>\n",
       "      <td>1. कृषि, वानिकी, एवं मत्स्य पालन</td>\n",
       "      <td>323222</td>\n",
       "      <td>270231</td>\n",
       "      <td>505545</td>\n",
       "      <td>402949</td>\n",
       "      <td>360094</td>\n",
       "      <td>302961</td>\n",
       "      <td>557597</td>\n",
       "      <td>454454</td>\n",
       "      <td>407713</td>\n",
       "      <td>...</td>\n",
       "      <td>NaN</td>\n",
       "      <td>NaN</td>\n",
       "      <td>NaN</td>\n",
       "      <td>NaN</td>\n",
       "      <td>NaN</td>\n",
       "      <td>NaN</td>\n",
       "      <td>NaN</td>\n",
       "      <td>NaN</td>\n",
       "      <td>NaN</td>\n",
       "      <td>NaN</td>\n",
       "    </tr>\n",
       "    <tr>\n",
       "      <th>8</th>\n",
       "      <td>2. खनन एवं उत्खनन</td>\n",
       "      <td>64670</td>\n",
       "      <td>55463</td>\n",
       "      <td>65815</td>\n",
       "      <td>75087</td>\n",
       "      <td>75789</td>\n",
       "      <td>59899</td>\n",
       "      <td>70447</td>\n",
       "      <td>79707</td>\n",
       "      <td>70645</td>\n",
       "      <td>...</td>\n",
       "      <td>NaN</td>\n",
       "      <td>NaN</td>\n",
       "      <td>NaN</td>\n",
       "      <td>NaN</td>\n",
       "      <td>NaN</td>\n",
       "      <td>NaN</td>\n",
       "      <td>NaN</td>\n",
       "      <td>NaN</td>\n",
       "      <td>NaN</td>\n",
       "      <td>NaN</td>\n",
       "    </tr>\n",
       "    <tr>\n",
       "      <th>9</th>\n",
       "      <td>3. विनिर्माण</td>\n",
       "      <td>350857</td>\n",
       "      <td>329937</td>\n",
       "      <td>334727</td>\n",
       "      <td>394465</td>\n",
       "      <td>374606</td>\n",
       "      <td>395939</td>\n",
       "      <td>377768</td>\n",
       "      <td>424523</td>\n",
       "      <td>413131</td>\n",
       "      <td>...</td>\n",
       "      <td>NaN</td>\n",
       "      <td>NaN</td>\n",
       "      <td>NaN</td>\n",
       "      <td>NaN</td>\n",
       "      <td>NaN</td>\n",
       "      <td>NaN</td>\n",
       "      <td>NaN</td>\n",
       "      <td>NaN</td>\n",
       "      <td>NaN</td>\n",
       "      <td>NaN</td>\n",
       "    </tr>\n",
       "  </tbody>\n",
       "</table>\n",
       "<p>10 rows × 101 columns</p>\n",
       "</div>"
      ],
      "text/plain": [
       "    प्रचलित भावों पर सकल देशीय उत्पाद का त्रैमासिक अनुमान, 2011-12 श्रंखला  \\\n",
       "0  QUARTERLY ESTIMATES OF GDP AT CURRENT PRICES, ...                         \n",
       "1                                                NaN                         \n",
       "2                                                NaN                         \n",
       "3                                                NaN                         \n",
       "4                                                 मद                         \n",
       "5                                                NaN                         \n",
       "6                बुनियादी मूल्यों पर सकल मूल्य वर्धन                         \n",
       "7                   1. कृषि, वानिकी, एवं मत्स्य पालन                         \n",
       "8                                  2. खनन एवं उत्खनन                         \n",
       "9                                       3. विनिर्माण                         \n",
       "\n",
       "                                          Unnamed: 1 Unnamed: 2 Unnamed: 3  \\\n",
       "0                                                NaN        NaN        NaN   \n",
       "1                                                NaN        NaN        NaN   \n",
       "2                                                NaN        NaN        NaN   \n",
       "3  (` करोड़ में)                    (Rupees in crore)        NaN        NaN   \n",
       "4                                            2011-12        NaN        NaN   \n",
       "5                                                 Q1         Q2         Q3   \n",
       "6                                                NaN        NaN        NaN   \n",
       "7                                             323222     270231     505545   \n",
       "8                                              64670      55463      65815   \n",
       "9                                             350857     329937     334727   \n",
       "\n",
       "  Unnamed: 4 Unnamed: 5 Unnamed: 6 Unnamed: 7 Unnamed: 8 Unnamed: 9  ...  \\\n",
       "0        NaN        NaN        NaN        NaN        NaN        NaN  ...   \n",
       "1        NaN        NaN        NaN        NaN        NaN        NaN  ...   \n",
       "2        NaN        NaN        NaN        NaN        NaN        NaN  ...   \n",
       "3        NaN        NaN        NaN        NaN        NaN        NaN  ...   \n",
       "4        NaN    2012-13        NaN        NaN        NaN    2013-14  ...   \n",
       "5         Q4         Q1         Q2         Q3         Q4         Q1  ...   \n",
       "6        NaN        NaN        NaN        NaN        NaN        NaN  ...   \n",
       "7     402949     360094     302961     557597     454454     407713  ...   \n",
       "8      75087      75789      59899      70447      79707      70645  ...   \n",
       "9     394465     374606     395939     377768     424523     413131  ...   \n",
       "\n",
       "  Unnamed: 91 Unnamed: 92 Unnamed: 93 Unnamed: 94 Unnamed: 95 Unnamed: 96  \\\n",
       "0         NaN         NaN         NaN         NaN         NaN         NaN   \n",
       "1         NaN         NaN         NaN         NaN         NaN         NaN   \n",
       "2         NaN         NaN         NaN         NaN         NaN         NaN   \n",
       "3         NaN         NaN         NaN         NaN         NaN         NaN   \n",
       "4         NaN         NaN         NaN         NaN         NaN         NaN   \n",
       "5         NaN         NaN         NaN         NaN         NaN         NaN   \n",
       "6         NaN         NaN         NaN         NaN         NaN         NaN   \n",
       "7         NaN         NaN         NaN         NaN         NaN         NaN   \n",
       "8         NaN         NaN         NaN         NaN         NaN         NaN   \n",
       "9         NaN         NaN         NaN         NaN         NaN         NaN   \n",
       "\n",
       "  Unnamed: 97 Unnamed: 98 Unnamed: 99 Unnamed: 100  \n",
       "0         NaN         NaN         NaN          NaN  \n",
       "1         NaN         NaN         NaN          NaN  \n",
       "2         NaN         NaN         NaN          NaN  \n",
       "3         NaN         NaN         NaN          NaN  \n",
       "4         NaN         NaN         NaN          NaN  \n",
       "5         NaN         NaN         NaN          NaN  \n",
       "6         NaN         NaN         NaN          NaN  \n",
       "7         NaN         NaN         NaN          NaN  \n",
       "8         NaN         NaN         NaN          NaN  \n",
       "9         NaN         NaN         NaN          NaN  \n",
       "\n",
       "[10 rows x 101 columns]"
      ]
     },
     "execution_count": 77,
     "metadata": {},
     "output_type": "execute_result"
    }
   ],
   "source": [
    "df = pd.read_csv(\"/Users/pranjaljindal/Downloads/NAD_12_2021-22_01MAR2022.csv\")\n",
    "df.head(10)"
   ]
  },
  {
   "cell_type": "code",
   "execution_count": 78,
   "id": "7dfca4d4",
   "metadata": {},
   "outputs": [
    {
     "data": {
      "text/plain": [
       "['2011-12',\n",
       " '2012-13',\n",
       " '2013-14',\n",
       " '2014-15',\n",
       " '2015-16',\n",
       " '2016-17',\n",
       " '2017-18',\n",
       " '2018-19',\n",
       " '2019-20',\n",
       " '2020-21',\n",
       " '2021-22']"
      ]
     },
     "execution_count": 78,
     "metadata": {},
     "output_type": "execute_result"
    }
   ],
   "source": [
    "dates = df.iloc[4]\n",
    "date  = [x for x in dates[1:43]  if not pd.isnull(x)]\n",
    "date"
   ]
  },
  {
   "cell_type": "code",
   "execution_count": 79,
   "id": "a8ab6463",
   "metadata": {},
   "outputs": [
    {
     "name": "stdout",
     "output_type": "stream",
     "text": [
      "['2011-12Q1', '2011-12Q2', '2011-12Q3', '2011-12Q4', '2012-13Q1', '2012-13Q2', '2012-13Q3', '2012-13Q4', '2013-14Q1', '2013-14Q2', '2013-14Q3', '2013-14Q4', '2014-15Q1', '2014-15Q2', '2014-15Q3', '2014-15Q4', '2015-16Q1', '2015-16Q2', '2015-16Q3', '2015-16Q4', '2016-17Q1', '2016-17Q2', '2016-17Q3', '2016-17Q4', '2017-18Q1', '2017-18Q2', '2017-18Q3', '2017-18Q4', '2018-19Q1', '2018-19Q2', '2018-19Q3', '2018-19Q4', '2019-20Q1', '2019-20Q2', '2019-20Q3', '2019-20Q4', '2020-21Q1', '2020-21Q2', '2020-21Q3', '2020-21Q4', '2021-22Q1', '2021-22Q2', '2021-22Q3']\n"
     ]
    }
   ],
   "source": [
    "dateQlist = []\n",
    "for i in date:\n",
    "    for j in range(1,5):\n",
    "        dateQlist.append(i+\"Q\"+str(j))\n",
    "dateQlist.remove('2021-22Q4')\n",
    "print(dateQlist)"
   ]
  },
  {
   "cell_type": "code",
   "execution_count": 80,
   "id": "eeb3d640",
   "metadata": {},
   "outputs": [
    {
     "data": {
      "text/html": [
       "<div>\n",
       "<style scoped>\n",
       "    .dataframe tbody tr th:only-of-type {\n",
       "        vertical-align: middle;\n",
       "    }\n",
       "\n",
       "    .dataframe tbody tr th {\n",
       "        vertical-align: top;\n",
       "    }\n",
       "\n",
       "    .dataframe thead th {\n",
       "        text-align: right;\n",
       "    }\n",
       "</style>\n",
       "<table border=\"1\" class=\"dataframe\">\n",
       "  <thead>\n",
       "    <tr style=\"text-align: right;\">\n",
       "      <th></th>\n",
       "    </tr>\n",
       "    <tr>\n",
       "      <th>Date</th>\n",
       "    </tr>\n",
       "  </thead>\n",
       "  <tbody>\n",
       "    <tr>\n",
       "      <th>2011-12Q1</th>\n",
       "    </tr>\n",
       "    <tr>\n",
       "      <th>2011-12Q2</th>\n",
       "    </tr>\n",
       "    <tr>\n",
       "      <th>2011-12Q3</th>\n",
       "    </tr>\n",
       "    <tr>\n",
       "      <th>2011-12Q4</th>\n",
       "    </tr>\n",
       "    <tr>\n",
       "      <th>2012-13Q1</th>\n",
       "    </tr>\n",
       "  </tbody>\n",
       "</table>\n",
       "</div>"
      ],
      "text/plain": [
       "Empty DataFrame\n",
       "Columns: []\n",
       "Index: [2011-12Q1, 2011-12Q2, 2011-12Q3, 2011-12Q4, 2012-13Q1]"
      ]
     },
     "execution_count": 80,
     "metadata": {},
     "output_type": "execute_result"
    }
   ],
   "source": [
    "\n",
    "data= {\"Date\":dateQlist}\n",
    "df_new = pd.DataFrame(data)\n",
    "#df_new['Date'] = pd.to_datetime(df_new['Date'])\n",
    "df_new = df_new.set_index('Date')\n",
    "df_new = df_new.sort_values(by='Date')\n",
    "df_new.head()"
   ]
  },
  {
   "cell_type": "code",
   "execution_count": 81,
   "id": "cc7d0b01",
   "metadata": {},
   "outputs": [
    {
     "name": "stdout",
     "output_type": "stream",
     "text": [
      "[323222, 270231, 505545, 402949, 360094, 302961, 557597, 454454, 407713, 350835, 670113, 497711, 460964, 404350, 688923, 539374, 499370, 424241, 721066, 582855, 573092, 485562, 801318, 658690, 620727, 551157, 914937, 743005, 686739, 591790, 957922, 793473, 736647, 640471, 1085522, 895724, 782413, 695180, 1180833, 951069, 858890, 747663, 1295051]\n",
      " Agriculture, forestry & fishing\n",
      "[64670, 55463, 65815, 75087, 75789, 59899, 70447, 79707, 70645, 63145, 74589, 87415, 95040, 68894, 72720, 71822, 90269, 61138, 68977, 73627, 81934, 60518, 76935, 107421, 82157, 67315, 82692, 103945, 94250, 79983, 95525, 107904, 94643, 72396, 85975, 105503, 65418, 64525, 78868, 116169, 108683, 99793, 128144]\n",
      " Mining & quarrying\n",
      "[350857, 329937, 334727, 394465, 374606, 395939, 377768, 424523, 413131, 424395, 416194, 459732, 471159, 476474, 435195, 495542, 530752, 534069, 506027, 575342, 575997, 575852, 554950, 626923, 588489, 638558, 625338, 714239, 676170, 704495, 685107, 746787, 677967, 671108, 649322, 706413, 453728, 698446, 710550, 846710, 749211, 824463, 798653]\n",
      " Manufacturing\n",
      "[44662, 46631, 47957, 47418, 54330, 52471, 54453, 54095, 62946, 65066, 64911, 67231, 69662, 71641, 70691, 70264, 83640, 87112, 81634, 82579, 88422, 89213, 88829, 89245, 107020, 107508, 104036, 107154, 112152, 116805, 112013, 108489, 129482, 126977, 118638, 126520, 115605, 123752, 129362, 138633, 129286, 138898, 143990]\n",
      " Electricity, gas ,water supply& other utility services\n",
      "[182219, 189096, 197079, 208941, 203182, 202602, 211963, 231618, 221810, 224408, 231690, 243562, 247541, 246390, 242325, 242829, 253252, 237074, 248149, 252608, 273538, 262498, 274360, 270473, 288043, 281258, 306395, 324718, 326662, 316330, 347401, 361725, 350518, 317820, 335098, 369324, 170899, 293690, 370558, 480461, 345306, 380212, 430950]\n",
      " Construction\n",
      "[330070, 337631, 351579, 393836, 394347, 403846, 412552, 453240, 427470, 456946, 480886, 509165, 508205, 517595, 514666, 567130, 553748, 541866, 558605, 640294, 607116, 594624, 619242, 718175, 691827, 675948, 709164, 801983, 778777, 757309, 791377, 875299, 852337, 819648, 860063, 946444, 425389, 676119, 795717, 969168, 627822, 814389, 948124]\n",
      " Trade\n",
      "[395102, 407657, 343065, 385053, 461070, 479904, 400489, 435169, 533978, 585666, 459327, 490537, 620774, 695118, 520847, 526608, 690657, 773347, 577564, 584570, 783003, 874053, 619110, 635271, 844182, 914863, 682492, 685674, 946709, 1036517, 769435, 776837, 1064892, 1145687, 828769, 839989, 1038123, 1089446, 946719, 971472, 1152616, 1251177, 1075183]\n",
      "  Financial\n",
      "[225669, 263657, 245399, 291257, 263982, 304587, 271594, 323412, 303684, 341392, 308435, 348424, 334552, 390144, 394998, 371841, 371179, 433096, 442648, 413144, 417101, 484122, 503381, 494233, 485076, 537193, 566515, 552058, 552771, 607709, 630758, 629908, 640602, 676068, 695381, 689161, 605213, 637464, 704591, 731520, 672944, 801301, 866466]\n",
      "  Public administration, defence  and Other Services\n"
     ]
    }
   ],
   "source": [
    "for i in range(7,15):\n",
    "    new_col =df.iloc[i]\n",
    "    #print(new_col)\n",
    "    res = [round(pd.to_numeric(x),2) for x in new_col[1:44]]\n",
    "    print(res)\n",
    "    col_name = new_col[87]\n",
    "    print(col_name[2:])\n",
    "    df_new[col_name[2:]] = res"
   ]
  },
  {
   "cell_type": "code",
   "execution_count": 82,
   "id": "ec252eaa",
   "metadata": {},
   "outputs": [
    {
     "data": {
      "text/html": [
       "<div>\n",
       "<style scoped>\n",
       "    .dataframe tbody tr th:only-of-type {\n",
       "        vertical-align: middle;\n",
       "    }\n",
       "\n",
       "    .dataframe tbody tr th {\n",
       "        vertical-align: top;\n",
       "    }\n",
       "\n",
       "    .dataframe thead th {\n",
       "        text-align: right;\n",
       "    }\n",
       "</style>\n",
       "<table border=\"1\" class=\"dataframe\">\n",
       "  <thead>\n",
       "    <tr style=\"text-align: right;\">\n",
       "      <th></th>\n",
       "      <th>Agriculture, forestry &amp; fishing</th>\n",
       "      <th>Mining &amp; quarrying</th>\n",
       "      <th>Manufacturing</th>\n",
       "      <th>Electricity, gas ,water supply&amp; other utility services</th>\n",
       "      <th>Construction</th>\n",
       "      <th>Trade</th>\n",
       "      <th>Financial</th>\n",
       "      <th>Public administration, defence  and Other Services</th>\n",
       "    </tr>\n",
       "    <tr>\n",
       "      <th>Date</th>\n",
       "      <th></th>\n",
       "      <th></th>\n",
       "      <th></th>\n",
       "      <th></th>\n",
       "      <th></th>\n",
       "      <th></th>\n",
       "      <th></th>\n",
       "      <th></th>\n",
       "    </tr>\n",
       "  </thead>\n",
       "  <tbody>\n",
       "    <tr>\n",
       "      <th>2011-12Q1</th>\n",
       "      <td>323222</td>\n",
       "      <td>64670</td>\n",
       "      <td>350857</td>\n",
       "      <td>44662</td>\n",
       "      <td>182219</td>\n",
       "      <td>330070</td>\n",
       "      <td>395102</td>\n",
       "      <td>225669</td>\n",
       "    </tr>\n",
       "    <tr>\n",
       "      <th>2011-12Q2</th>\n",
       "      <td>270231</td>\n",
       "      <td>55463</td>\n",
       "      <td>329937</td>\n",
       "      <td>46631</td>\n",
       "      <td>189096</td>\n",
       "      <td>337631</td>\n",
       "      <td>407657</td>\n",
       "      <td>263657</td>\n",
       "    </tr>\n",
       "    <tr>\n",
       "      <th>2011-12Q3</th>\n",
       "      <td>505545</td>\n",
       "      <td>65815</td>\n",
       "      <td>334727</td>\n",
       "      <td>47957</td>\n",
       "      <td>197079</td>\n",
       "      <td>351579</td>\n",
       "      <td>343065</td>\n",
       "      <td>245399</td>\n",
       "    </tr>\n",
       "    <tr>\n",
       "      <th>2011-12Q4</th>\n",
       "      <td>402949</td>\n",
       "      <td>75087</td>\n",
       "      <td>394465</td>\n",
       "      <td>47418</td>\n",
       "      <td>208941</td>\n",
       "      <td>393836</td>\n",
       "      <td>385053</td>\n",
       "      <td>291257</td>\n",
       "    </tr>\n",
       "    <tr>\n",
       "      <th>2012-13Q1</th>\n",
       "      <td>360094</td>\n",
       "      <td>75789</td>\n",
       "      <td>374606</td>\n",
       "      <td>54330</td>\n",
       "      <td>203182</td>\n",
       "      <td>394347</td>\n",
       "      <td>461070</td>\n",
       "      <td>263982</td>\n",
       "    </tr>\n",
       "  </tbody>\n",
       "</table>\n",
       "</div>"
      ],
      "text/plain": [
       "            Agriculture, forestry & fishing   Mining & quarrying  \\\n",
       "Date                                                               \n",
       "2011-12Q1                            323222                64670   \n",
       "2011-12Q2                            270231                55463   \n",
       "2011-12Q3                            505545                65815   \n",
       "2011-12Q4                            402949                75087   \n",
       "2012-13Q1                            360094                75789   \n",
       "\n",
       "            Manufacturing  \\\n",
       "Date                        \n",
       "2011-12Q1          350857   \n",
       "2011-12Q2          329937   \n",
       "2011-12Q3          334727   \n",
       "2011-12Q4          394465   \n",
       "2012-13Q1          374606   \n",
       "\n",
       "            Electricity, gas ,water supply& other utility services  \\\n",
       "Date                                                                 \n",
       "2011-12Q1                                              44662         \n",
       "2011-12Q2                                              46631         \n",
       "2011-12Q3                                              47957         \n",
       "2011-12Q4                                              47418         \n",
       "2012-13Q1                                              54330         \n",
       "\n",
       "            Construction   Trade    Financial  \\\n",
       "Date                                            \n",
       "2011-12Q1         182219  330070       395102   \n",
       "2011-12Q2         189096  337631       407657   \n",
       "2011-12Q3         197079  351579       343065   \n",
       "2011-12Q4         208941  393836       385053   \n",
       "2012-13Q1         203182  394347       461070   \n",
       "\n",
       "             Public administration, defence  and Other Services  \n",
       "Date                                                             \n",
       "2011-12Q1                                             225669     \n",
       "2011-12Q2                                             263657     \n",
       "2011-12Q3                                             245399     \n",
       "2011-12Q4                                             291257     \n",
       "2012-13Q1                                             263982     "
      ]
     },
     "execution_count": 82,
     "metadata": {},
     "output_type": "execute_result"
    }
   ],
   "source": [
    "df_new.head()"
   ]
  },
  {
   "cell_type": "code",
   "execution_count": 83,
   "id": "893eefb9",
   "metadata": {},
   "outputs": [
    {
     "data": {
      "text/plain": [
       "<AxesSubplot:>"
      ]
     },
     "execution_count": 83,
     "metadata": {},
     "output_type": "execute_result"
    },
    {
     "data": {
      "image/png": "[encoded data removed]",
      "text/plain": [
       "<Figure size 432x288 with 2 Axes>"
      ]
     },
     "metadata": {
      "needs_background": "light"
     },
     "output_type": "display_data"
    }
   ],
   "source": [
    "import seaborn as sns\n",
    "sns.heatmap(df_new.corr(), annot = True,cmap= 'coolwarm')"
   ]
  },
  {
   "cell_type": "code",
   "execution_count": 108,
   "id": "953cdccc",
   "metadata": {},
   "outputs": [],
   "source": [
    "y = df_new['  Financial']\n"
   ]
  },
  {
   "cell_type": "code",
   "execution_count": 109,
   "id": "c12fad66",
   "metadata": {},
   "outputs": [],
   "source": [
    "X= df_new.loc[:, df_new.columns != '  Financial']"
   ]
  },
  {
   "cell_type": "code",
   "execution_count": 110,
   "id": "c3f17aa0",
   "metadata": {},
   "outputs": [
    {
     "data": {
      "text/html": [
       "<div>\n",
       "<style scoped>\n",
       "    .dataframe tbody tr th:only-of-type {\n",
       "        vertical-align: middle;\n",
       "    }\n",
       "\n",
       "    .dataframe tbody tr th {\n",
       "        vertical-align: top;\n",
       "    }\n",
       "\n",
       "    .dataframe thead th {\n",
       "        text-align: right;\n",
       "    }\n",
       "</style>\n",
       "<table border=\"1\" class=\"dataframe\">\n",
       "  <thead>\n",
       "    <tr style=\"text-align: right;\">\n",
       "      <th></th>\n",
       "      <th>Agriculture, forestry &amp; fishing</th>\n",
       "      <th>Mining &amp; quarrying</th>\n",
       "      <th>Manufacturing</th>\n",
       "      <th>Electricity, gas ,water supply&amp; other utility services</th>\n",
       "      <th>Construction</th>\n",
       "      <th>Trade</th>\n",
       "      <th>Public administration, defence  and Other Services</th>\n",
       "    </tr>\n",
       "    <tr>\n",
       "      <th>Date</th>\n",
       "      <th></th>\n",
       "      <th></th>\n",
       "      <th></th>\n",
       "      <th></th>\n",
       "      <th></th>\n",
       "      <th></th>\n",
       "      <th></th>\n",
       "    </tr>\n",
       "  </thead>\n",
       "  <tbody>\n",
       "    <tr>\n",
       "      <th>2011-12Q1</th>\n",
       "      <td>323222</td>\n",
       "      <td>64670</td>\n",
       "      <td>350857</td>\n",
       "      <td>44662</td>\n",
       "      <td>182219</td>\n",
       "      <td>330070</td>\n",
       "      <td>225669</td>\n",
       "    </tr>\n",
       "    <tr>\n",
       "      <th>2011-12Q2</th>\n",
       "      <td>270231</td>\n",
       "      <td>55463</td>\n",
       "      <td>329937</td>\n",
       "      <td>46631</td>\n",
       "      <td>189096</td>\n",
       "      <td>337631</td>\n",
       "      <td>263657</td>\n",
       "    </tr>\n",
       "    <tr>\n",
       "      <th>2011-12Q3</th>\n",
       "      <td>505545</td>\n",
       "      <td>65815</td>\n",
       "      <td>334727</td>\n",
       "      <td>47957</td>\n",
       "      <td>197079</td>\n",
       "      <td>351579</td>\n",
       "      <td>245399</td>\n",
       "    </tr>\n",
       "    <tr>\n",
       "      <th>2011-12Q4</th>\n",
       "      <td>402949</td>\n",
       "      <td>75087</td>\n",
       "      <td>394465</td>\n",
       "      <td>47418</td>\n",
       "      <td>208941</td>\n",
       "      <td>393836</td>\n",
       "      <td>291257</td>\n",
       "    </tr>\n",
       "    <tr>\n",
       "      <th>2012-13Q1</th>\n",
       "      <td>360094</td>\n",
       "      <td>75789</td>\n",
       "      <td>374606</td>\n",
       "      <td>54330</td>\n",
       "      <td>203182</td>\n",
       "      <td>394347</td>\n",
       "      <td>263982</td>\n",
       "    </tr>\n",
       "  </tbody>\n",
       "</table>\n",
       "</div>"
      ],
      "text/plain": [
       "            Agriculture, forestry & fishing   Mining & quarrying  \\\n",
       "Date                                                               \n",
       "2011-12Q1                            323222                64670   \n",
       "2011-12Q2                            270231                55463   \n",
       "2011-12Q3                            505545                65815   \n",
       "2011-12Q4                            402949                75087   \n",
       "2012-13Q1                            360094                75789   \n",
       "\n",
       "            Manufacturing  \\\n",
       "Date                        \n",
       "2011-12Q1          350857   \n",
       "2011-12Q2          329937   \n",
       "2011-12Q3          334727   \n",
       "2011-12Q4          394465   \n",
       "2012-13Q1          374606   \n",
       "\n",
       "            Electricity, gas ,water supply& other utility services  \\\n",
       "Date                                                                 \n",
       "2011-12Q1                                              44662         \n",
       "2011-12Q2                                              46631         \n",
       "2011-12Q3                                              47957         \n",
       "2011-12Q4                                              47418         \n",
       "2012-13Q1                                              54330         \n",
       "\n",
       "            Construction   Trade  \\\n",
       "Date                               \n",
       "2011-12Q1         182219  330070   \n",
       "2011-12Q2         189096  337631   \n",
       "2011-12Q3         197079  351579   \n",
       "2011-12Q4         208941  393836   \n",
       "2012-13Q1         203182  394347   \n",
       "\n",
       "             Public administration, defence  and Other Services  \n",
       "Date                                                             \n",
       "2011-12Q1                                             225669     \n",
       "2011-12Q2                                             263657     \n",
       "2011-12Q3                                             245399     \n",
       "2011-12Q4                                             291257     \n",
       "2012-13Q1                                             263982     "
      ]
     },
     "execution_count": 110,
     "metadata": {},
     "output_type": "execute_result"
    }
   ],
   "source": [
    "X.head()"
   ]
  },
  {
   "cell_type": "code",
   "execution_count": 111,
   "id": "a0d35df7",
   "metadata": {},
   "outputs": [],
   "source": [
    "from sklearn.model_selection import train_test_split\n",
    "X_train, X_test, y_train, y_test = train_test_split( X, y, test_size=0.20, random_state=0)"
   ]
  },
  {
   "cell_type": "code",
   "execution_count": 112,
   "id": "285e0a7d",
   "metadata": {},
   "outputs": [
    {
     "data": {
      "text/plain": [
       "(34, 7)"
      ]
     },
     "execution_count": 112,
     "metadata": {},
     "output_type": "execute_result"
    }
   ],
   "source": [
    "X_train.shape"
   ]
  },
  {
   "cell_type": "code",
   "execution_count": 113,
   "id": "d3f8180a",
   "metadata": {},
   "outputs": [
    {
     "data": {
      "text/plain": [
       "(9, 7)"
      ]
     },
     "execution_count": 113,
     "metadata": {},
     "output_type": "execute_result"
    }
   ],
   "source": [
    "X_test.shape"
   ]
  },
  {
   "cell_type": "code",
   "execution_count": 114,
   "id": "c73b6b70",
   "metadata": {},
   "outputs": [
    {
     "data": {
      "text/plain": [
       "0.9781215772629656"
      ]
     },
     "execution_count": 114,
     "metadata": {},
     "output_type": "execute_result"
    }
   ],
   "source": [
    "from sklearn.linear_model import LinearRegression\n",
    "reg = LinearRegression().fit(X_train, y_train)\n",
    "reg.score(X_train, y_train)"
   ]
  },
  {
   "cell_type": "code",
   "execution_count": 115,
   "id": "d8a5272f",
   "metadata": {},
   "outputs": [
    {
     "data": {
      "text/plain": [
       "array([-4.49434275e-01,  1.87559570e-01,  8.41753853e-03,  1.12206908e+01,\n",
       "       -2.81838498e-01, -6.73335521e-01,  6.54570837e-01])"
      ]
     },
     "execution_count": 115,
     "metadata": {},
     "output_type": "execute_result"
    }
   ],
   "source": [
    "reg.coef_"
   ]
  },
  {
   "cell_type": "code",
   "execution_count": 116,
   "id": "ceaadf6f",
   "metadata": {},
   "outputs": [
    {
     "data": {
      "text/plain": [
       "158388.81130380556"
      ]
     },
     "execution_count": 116,
     "metadata": {},
     "output_type": "execute_result"
    }
   ],
   "source": [
    "reg.intercept_"
   ]
  },
  {
   "cell_type": "code",
   "execution_count": 117,
   "id": "2c9b96e3",
   "metadata": {},
   "outputs": [],
   "source": [
    "y_pred = reg.predict(X_test)"
   ]
  },
  {
   "cell_type": "code",
   "execution_count": 118,
   "id": "ce6e21ce",
   "metadata": {},
   "outputs": [
    {
     "data": {
      "text/plain": [
       "0.9170869454792637"
      ]
     },
     "execution_count": 118,
     "metadata": {},
     "output_type": "execute_result"
    }
   ],
   "source": [
    "reg.score(X_test,y_test)"
   ]
  },
  {
   "cell_type": "code",
   "execution_count": 119,
   "id": "9bc06fd7",
   "metadata": {},
   "outputs": [
    {
     "name": "stdout",
     "output_type": "stream",
     "text": [
      "rmse: 4631074869.490746\n"
     ]
    }
   ],
   "source": [
    "from sklearn.metrics import mean_squared_error, r2_score\n",
    "rmse = mean_squared_error(y_test, y_pred)\n",
    "r2 = r2_score(y_test, y_pred)\n",
    "print(\"rmse: \"+str(rmse))"
   ]
  },
  {
   "cell_type": "code",
   "execution_count": null,
   "id": "a2e65500",
   "metadata": {},
   "outputs": [],
   "source": []
  },
  {
   "cell_type": "code",
   "execution_count": null,
   "id": "4cbd1ba1",
   "metadata": {},
   "outputs": [],
   "source": []
  }
 ],
 "metadata": {
  "kernelspec": {
   "display_name": "Python 3 (ipykernel)",
   "language": "python",
   "name": "python3"
  },
  "language_info": {
   "codemirror_mode": {
    "name": "ipython",
    "version": 3
   },
   "file_extension": ".py",
   "mimetype": "text/x-python",
   "name": "python",
   "nbconvert_exporter": "python",
   "pygments_lexer": "ipython3",
   "version": "3.9.7"
  }
 },
 "nbformat": 4,
 "nbformat_minor": 5
}
